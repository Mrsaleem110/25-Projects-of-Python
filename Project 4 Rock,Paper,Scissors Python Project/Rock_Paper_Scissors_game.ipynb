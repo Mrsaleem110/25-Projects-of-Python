{
  "cells": [
    {
      "cell_type": "code",
      "execution_count": null,
      "metadata": {
        "colab": {
          "base_uri": "https://localhost:8080/"
        },
        "id": "XldEosb06z2Z",
        "outputId": "c5c71c9b-c80f-49bf-f3ce-adc7e7eeca53"
      },
      "outputs": [
        {
          "name": "stdout",
          "output_type": "stream",
          "text": [
            "Selected rock, paper or scissors: paper\n",
            "paper beats rock you win!\n"
          ]
        }
      ],
      "source": [
        "import random\n",
        "choices =[\"rock\",\"paper\",\"scissors\"]\n",
        "player_choices=input(\"Selected rock, paper or scissors: \")\n",
        "computer_choices=random.choice(choices)\n",
        "\n",
        "if player_choices==computer_choices:\n",
        "    print(f\" {player_choices} ,its a tie!\")\n",
        "elif player_choices==\"rock\" and computer_choices==\"scissors\":\n",
        "    print(f\"{player_choices} beats {computer_choices} you win!\")\n",
        "elif player_choices==\"paper\" and computer_choices==\"rock\":\n",
        "    print(f\"{player_choices} beats {computer_choices} you win!\")\n",
        "elif player_choices==\"scissors\" and computer_choices==\"paper\":\n",
        "    print(f\"{player_choices} beats {computer_choices} you win!\")\n",
        "else:\n",
        "    print(f\"{computer_choices} beats {player_choices} you lose!\")"
      ]
    }
  ],
  "metadata": {
    "colab": {
      "provenance": []
    },
    "kernelspec": {
      "display_name": "Python 3",
      "name": "python3"
    },
    "language_info": {
      "name": "python"
    }
  },
  "nbformat": 4,
  "nbformat_minor": 0
}
