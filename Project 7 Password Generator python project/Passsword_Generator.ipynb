{
  "nbformat": 4,
  "nbformat_minor": 0,
  "metadata": {
    "colab": {
      "provenance": []
    },
    "kernelspec": {
      "name": "python3",
      "display_name": "Python 3"
    },
    "language_info": {
      "name": "python"
    }
  },
  "cells": [
    {
      "cell_type": "code",
      "execution_count": null,
      "metadata": {
        "id": "_kKiwdmqIn7Y"
      },
      "outputs": [],
      "source": [
        "import random\n",
        "import string\n",
        "\n",
        "def password_generator(length12):\n",
        "  characters = string.ascii_letters + string.digits + string.punctuation\n",
        "  password = ''.join(random.choice(characters) for i in range(length))\n",
        "\n",
        "#user input\n",
        "length = int(input(\"Enter the length of your password!\"))\n",
        "\n",
        "password = password_generator(length)\n",
        "print(\"Your generated password is:\", password)"
      ]
    }
  ]
}