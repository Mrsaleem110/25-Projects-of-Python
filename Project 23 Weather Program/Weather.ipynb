{
  "nbformat": 4,
  "nbformat_minor": 0,
  "metadata": {
    "colab": {
      "provenance": []
    },
    "kernelspec": {
      "name": "python3",
      "display_name": "Python 3"
    },
    "language_info": {
      "name": "python"
    }
  },
  "cells": [
    {
      "cell_type": "code",
      "source": [
        "pip install requests\n"
      ],
      "metadata": {
        "colab": {
          "base_uri": "https://localhost:8080/"
        },
        "id": "itWOcZqU8MAn",
        "outputId": "0047c738-31a1-437e-85b0-ed97cab0260b"
      },
      "execution_count": null,
      "outputs": [
        {
          "output_type": "stream",
          "name": "stdout",
          "text": [
            "Requirement already satisfied: requests in /usr/local/lib/python3.11/dist-packages (2.32.3)\n",
            "Requirement already satisfied: charset-normalizer<4,>=2 in /usr/local/lib/python3.11/dist-packages (from requests) (3.4.1)\n",
            "Requirement already satisfied: idna<4,>=2.5 in /usr/local/lib/python3.11/dist-packages (from requests) (3.10)\n",
            "Requirement already satisfied: urllib3<3,>=1.21.1 in /usr/local/lib/python3.11/dist-packages (from requests) (2.4.0)\n",
            "Requirement already satisfied: certifi>=2017.4.17 in /usr/local/lib/python3.11/dist-packages (from requests) (2025.4.26)\n"
          ]
        }
      ]
    },
    {
      "cell_type": "code",
      "source": [
        "import requests\n",
        "\n",
        "def get_weather(city):\n",
        "    api_key = \"c342ff7ab9137e413d07ccd362d2023a\"  # Replace with your actual API key\n",
        "    base_url = \"http://api.openweathermap.org/data/2.5/weather\"\n",
        "    params = {\n",
        "        'q': city,\n",
        "        'appid': api_key,\n",
        "        'units': 'metric'  # Use 'imperial' for Fahrenheit\n",
        "    }\n",
        "\n",
        "    response = requests.get(base_url, params=params)\n",
        "    data = response.json()\n",
        "\n",
        "    if response.status_code == 200:\n",
        "        print(f\"Weather in {data['name']} ({data['sys']['country']}):\")\n",
        "        print(f\"Temperature: {data['main']['temp']}°C\")\n",
        "        print(f\"Description: {data['weather'][0]['description']}\")\n",
        "        print(f\"Humidity: {data['main']['humidity']}%\")\n",
        "        print(f\"Wind Speed: {data['wind']['speed']} m/s\")\n",
        "    else:\n",
        "        print(f\"Error: {data.get('message', 'Unable to get weather data.')}\")\n",
        "\n",
        "# Collect user input\n",
        "location = input(\"Enter a city name: \")\n",
        "get_weather(location)\n"
      ],
      "metadata": {
        "colab": {
          "base_uri": "https://localhost:8080/"
        },
        "id": "Ki_xPACR8SbD",
        "outputId": "d44312c2-52cc-4e00-d83f-f564ce270843"
      },
      "execution_count": 1,
      "outputs": [
        {
          "output_type": "stream",
          "name": "stdout",
          "text": [
            "Enter a city name: karachi\n",
            "Weather in Karachi (PK):\n",
            "Temperature: 31.9°C\n",
            "Description: clear sky\n",
            "Humidity: 51%\n",
            "Wind Speed: 5.14 m/s\n"
          ]
        }
      ]
    }
  ]
}