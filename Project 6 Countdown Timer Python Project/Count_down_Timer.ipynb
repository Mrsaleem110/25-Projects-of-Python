{
  "nbformat": 4,
  "nbformat_minor": 0,
  "metadata": {
    "colab": {
      "provenance": []
    },
    "kernelspec": {
      "name": "python3",
      "display_name": "Python 3"
    },
    "language_info": {
      "name": "python"
    }
  },
  "cells": [
    {
      "cell_type": "code",
      "source": [
        "import time\n",
        "\n",
        "def countdown_timer(seconds):\n",
        "  while seconds> 0:\n",
        "    mins, secs = divmod(seconds, 60)#min aur sec calculate ho rahy h.\n",
        "    time_format = '{:02d}:{:02d}'.format(mins, secs)#MM:SS formate\n",
        "    print(time_format, end='\\r')\n",
        "    time.sleep(1)#delay\n",
        "    seconds -= 1\n",
        "  print(\"00:00 \\n Timer completed!\")\n",
        "\n",
        "#user input for timer\n",
        "total_seconds = int(input(\"Enter the time in seconds: \"))\n",
        "countdown_timer(total_seconds)\n",
        "\n"
      ],
      "metadata": {
        "colab": {
          "base_uri": "https://localhost:8080/"
        },
        "id": "YjfPor3X_3v4",
        "outputId": "3c84a525-07e6-4d45-da15-b1576eee3d47"
      },
      "execution_count": 11,
      "outputs": [
        {
          "output_type": "stream",
          "name": "stdout",
          "text": [
            "Enter the time in seconds: 3\n",
            "00:00 \n",
            " Timer completed!\n"
          ]
        }
      ]
    }
  ]
}