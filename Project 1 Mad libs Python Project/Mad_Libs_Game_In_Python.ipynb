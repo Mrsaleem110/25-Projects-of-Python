{
  "nbformat": 4,
  "nbformat_minor": 0,
  "metadata": {
    "colab": {
      "provenance": []
    },
    "kernelspec": {
      "name": "python3",
      "display_name": "Python 3"
    },
    "language_info": {
      "name": "python"
    }
  },
  "cells": [
    {
      "cell_type": "markdown",
      "source": [
        "## Mad Libs Game In Python\n",
        "\n",
        "> Add blockquote\n",
        "\n"
      ],
      "metadata": {
        "id": "rMZsaCi414ui"
      }
    },
    {
      "cell_type": "code",
      "execution_count": null,
      "metadata": {
        "colab": {
          "base_uri": "https://localhost:8080/"
        },
        "id": "GaNtayew1pAo",
        "outputId": "3ee38f68-1c73-472c-80c5-6267035267c2"
      },
      "outputs": [
        {
          "output_type": "stream",
          "name": "stdout",
          "text": [
            "Enter Your Name: manahil\n",
            "Enter Your Programming Language: (e.g: python ,next.js,typescript,javascript)python\n",
            "Enter Your Mentor Name: ziakhan\n",
            "\n",
            " Here is my little story based on mad libs game!\n",
            "Once Upon a time,there was a student named manahil.\n",
            "manahil was very curious and always want to learn new things\n",
            "One day, he/she decided to learn python language at governor house!\n",
            "Luckily manahil found a great mentor name as ziakhan who was an expert in python\n",
            "And so , his journey continues.....!\n"
          ]
        }
      ],
      "source": [
        "# Take User Input.\n",
        "name = input(\"Enter Your Name: \")\n",
        "programming_language = input(\"Enter Your Programming Language: (e.g: python ,next.js,typescript,javascript)\")\n",
        "mentor = input(\"Enter Your Mentor Name: \")\n",
        "location = input(\"Enter Your institute Location: \")\n",
        "# story created\n",
        "print(\"\\n Here is my little story based on mad libs game!\")\n",
        "print(f\"Once Upon a time,there was a student named {name}.\")\n",
        "print(f\"{name} was very curious and always want to learn new things\")\n",
        "print(f\"One day, he/she decided to learn {programming_language} language at {location}!\")\n",
        "print(f\"Luckily {name} found a great mentor name as {mentor} who was an expert in {programming_language}\")\n",
        "print(\"And so , his journey continues.....!\")"
      ]
    }
  ]
}