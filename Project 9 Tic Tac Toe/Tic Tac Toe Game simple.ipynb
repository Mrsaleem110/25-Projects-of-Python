{
  "nbformat": 4,
  "nbformat_minor": 0,
  "metadata": {
    "colab": {
      "provenance": []
    },
    "kernelspec": {
      "name": "python3",
      "display_name": "Python 3"
    },
    "language_info": {
      "name": "python"
    }
  },
  "cells": [
    {
      "cell_type": "markdown",
      "source": [
        "# Tic Tac Toe simple **game**"
      ],
      "metadata": {
        "id": "SnMI9pxgKC81"
      }
    },
    {
      "cell_type": "code",
      "execution_count": null,
      "metadata": {
        "colab": {
          "base_uri": "https://localhost:8080/"
        },
        "id": "GMLi9rM4KBzu",
        "outputId": "c8e70b84-5ea3-4fdc-e0a3-15226ecad851"
      },
      "outputs": [
        {
          "output_type": "stream",
          "name": "stdout",
          "text": [
            "🎮 Welcome to Tic-Tac-Toe (Human vs Human)!\n",
            "\n",
            "Current Board:\n",
            "  |   |  \n",
            "---------\n",
            "  |   |  \n",
            "---------\n",
            "  |   |  \n",
            "---------\n",
            "\n",
            "X's turn. Enter row and column (e.g. 0 2): 1\n",
            "⚠️ Please enter two numbers separated by a space.\n",
            "X's turn. Enter row and column (e.g. 0 2): 1 3\n",
            "⚠️ Invalid position. Use numbers 0, 1, or 2.\n"
          ]
        }
      ],
      "source": [
        "import time\n",
        "import math\n",
        "\n",
        "# Function to display the board\n",
        "def print_board(board):\n",
        "    print(\"\\nCurrent Board:\")\n",
        "    for row in board:\n",
        "        print(\" | \".join(row))\n",
        "        print(\"-\" * 9)\n",
        "    print()\n",
        "\n",
        "# Function to check if a player has won\n",
        "def check_winner(board, player):\n",
        "    # Check rows and columns\n",
        "    for i in range(3):\n",
        "        if all([board[i][j] == player for j in range(3)]):  # Row\n",
        "            return True\n",
        "        if all([board[j][i] == player for j in range(3)]):  # Column\n",
        "            return True\n",
        "    # Check diagonals\n",
        "    if all([board[i][i] == player for i in range(3)]) or \\\n",
        "       all([board[i][2 - i] == player for i in range(3)]):\n",
        "        return True\n",
        "    return False\n",
        "\n",
        "# Function to check if the board is full\n",
        "def is_board_full(board):\n",
        "    for row in board:\n",
        "        for cell in row:\n",
        "            if cell == \" \":\n",
        "                return False\n",
        "    return True\n",
        "\n",
        "# Function to get a valid move from a player\n",
        "def get_move(board, player):\n",
        "    while True:\n",
        "        try:\n",
        "            move = input(f\"{player}'s turn. Enter row and column (e.g. 0 2): \")\n",
        "            row, col = map(int, move.strip().split())\n",
        "            if row in range(3) and col in range(3):\n",
        "                if board[row][col] == \" \":\n",
        "                    return row, col\n",
        "                else:\n",
        "                    print(\"❌ Cell already taken. Try again.\")\n",
        "            else:\n",
        "                print(\"⚠️ Invalid position. Use numbers 0, 1, or 2.\")\n",
        "        except ValueError:\n",
        "            print(\"⚠️ Please enter two numbers separated by a space.\")\n",
        "\n",
        "# Main game loop\n",
        "def play_game():\n",
        "    board = [[\" \" for _ in range(3)] for _ in range(3)]\n",
        "    current_player = \"X\"\n",
        "\n",
        "    print(\"🎮 Welcome to Tic-Tac-Toe (Human vs Human)!\")\n",
        "    time.sleep(1)\n",
        "\n",
        "    while True:\n",
        "        print_board(board)\n",
        "        row, col = get_move(board, current_player)\n",
        "        board[row][col] = current_player\n",
        "\n",
        "        if check_winner(board, current_player):\n",
        "            print_board(board)\n",
        "            print(f\"🏆 Player {current_player} wins!\")\n",
        "            break\n",
        "        elif is_board_full(board):\n",
        "            print_board(board)\n",
        "            print(\"🤝 It's a tie!\")\n",
        "            break\n",
        "        else:\n",
        "            # Switch players\n",
        "            if current_player == \"X\":\n",
        "                current_player = \"O\"\n",
        "            else:\n",
        "                current_player = \"X\"\n",
        "\n",
        "        time.sleep(0.5)\n",
        "\n",
        "# Run the game\n",
        "if __name__ == \"__main__\":\n",
        "    play_game()\n"
      ]
    }
  ]
}