{
  "cells": [
    {
      "cell_type": "code",
      "execution_count": null,
      "metadata": {
        "id": "T_TnZXEJEwrJ"
      },
      "outputs": [],
      "source": [
        "import requests\n",
        "from bs4 import BeautifulSoup\n",
        "\n",
        "# Step 1: Ask for GitHub user profile link\n",
        "url = input(\"Enter the GitHub profile URL (e.g., https://github.com/torvalds): \")\n",
        "\n",
        "# Step 2: Send GET request\n",
        "response = requests.get(url)\n",
        "\n",
        "# Step 3: Parse the page with BeautifulSoup\n",
        "soup = BeautifulSoup(response.text, 'html.parser')\n",
        "\n",
        "# Step 4: Find the profile image\n",
        "img_tag = soup.find('img', {'alt': 'Avatar'})\n",
        "if img_tag and 'src' in img_tag.attrs:\n",
        "    profile_img_url = img_tag['src']\n",
        "    print(\"Profile Image URL:\", profile_img_url)\n",
        "else:\n",
        "    print(\"Could not find the profile image.\")\n"
      ]
    }
  ],
  "metadata": {
    "colab": {
      "provenance": []
    },
    "kernelspec": {
      "display_name": "Python 3",
      "name": "python3"
    },
    "language_info": {
      "name": "python",
      "version": "3.13.3"
    }
  },
  "nbformat": 4,
  "nbformat_minor": 0
}
