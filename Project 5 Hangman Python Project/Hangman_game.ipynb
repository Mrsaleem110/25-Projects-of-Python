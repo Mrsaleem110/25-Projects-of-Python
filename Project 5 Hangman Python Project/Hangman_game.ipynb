{
  "nbformat": 4,
  "nbformat_minor": 0,
  "metadata": {
    "colab": {
      "provenance": []
    },
    "kernelspec": {
      "name": "python3",
      "display_name": "Python 3"
    },
    "language_info": {
      "name": "python"
    }
  },
  "cells": [
    {
      "cell_type": "code",
      "execution_count": null,
      "metadata": {
        "colab": {
          "base_uri": "https://localhost:8080/"
        },
        "id": "s4Ndnsb-DD-T",
        "outputId": "f3f0f118-dacb-4c34-b19e-66e76ed958c2"
      },
      "outputs": [
        {
          "metadata": {
            "tags": null
          },
          "name": "stdout",
          "output_type": "stream",
          "text": [
            "Welcome to hangman game!\n",
            "_____________\n",
            "Write one alphabet only!\n",
            "Correct guess!\n",
            "_ _ _ _ _ _ _ _ a _ _ _ _\n",
            "Correct guess!\n",
            "_ _ _ _ _ _ _ _ a d _ _ _\n",
            "Wrong guess! You have 3 attempts left.\n",
            "_ _ _ _ _ _ _ _ a d _ _ _\n"
          ]
        }
      ],
      "source": [
        "import random\n",
        "\n",
        "words = [\"Crypto\",\"trading\",\"billion\",\"million\"]\n",
        "word = random.choice(words)\n",
        "guesses = []\n",
        "attempts = 4\n",
        "\n",
        "print(\"Welcome to hangman game!\")\n",
        "print(\"_\"*len(word))\n",
        "\n",
        "while attempts > 0:\n",
        "    guess = input(\"\\nGuess the letters: \").lower()\n",
        "\n",
        "    if len(guess) != 1 or not guess.isalpha():\n",
        "        print(\"Write one alphabet only!\")\n",
        "        continue\n",
        "\n",
        "    if guess in guesses:\n",
        "        print(\"This letter is already guessed, choose another letter.\")\n",
        "        continue\n",
        "\n",
        "    guesses.append(guess)\n",
        "\n",
        "    if guess in word.lower():  # word ko lower case mein convert kiya\n",
        "        print(\"Correct guess!\")\n",
        "    else:\n",
        "        attempts -= 1\n",
        "        print(f\"Wrong guess! You have {attempts} attempts left.\")\n",
        "\n",
        "    displayed_word = \" \".join([letter if letter.lower() in guesses else \"_\" for letter in word])\n",
        "    print(displayed_word)\n",
        "\n",
        "    if \"_\" not in displayed_word:\n",
        "        print(f\"Congratulations! You guessed the word: {word}\")\n",
        "        break\n",
        "else:\n",
        "    print(f\"Game over! The word was: {word}\")\n",
        "\n",
        "\n"
      ]
    }
  ]
}