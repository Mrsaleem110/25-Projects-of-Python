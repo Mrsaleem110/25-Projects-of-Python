{
  "cells": [
    {
      "cell_type": "code",
      "execution_count": null,
      "metadata": {
        "id": "-lDjVtZF1jbT"
      },
      "outputs": [],
      "source": [
        "import os\n",
        "\n",
        "# Function to rename files based on a condition\n",
        "def rename_files_in_folder(folder_path, new_name_rule):\n",
        "    # Check if the provided folder path exists\n",
        "    if not os.path.exists(folder_path):\n",
        "        print(f\"The folder at {folder_path} does not exist.\")\n",
        "        return\n",
        "\n",
        "    # List all files in the folder\n",
        "    files = os.listdir(folder_path)\n",
        "\n",
        "    # Filter out directories (if you only want to rename files)\n",
        "    files = [f for f in files if os.path.isfile(os.path.join(folder_path, f))]\n",
        "\n",
        "    # Rename each file based on the rule\n",
        "    for old_name in files:\n",
        "        old_path = os.path.join(folder_path, old_name)\n",
        "\n",
        "        # Generate new file name based on the rule\n",
        "        new_name = new_name_rule(old_name)\n",
        "        new_path = os.path.join(folder_path, new_name)\n",
        "\n",
        "        # Rename the file\n",
        "        os.rename(old_path, new_path)\n",
        "        print(f\"Renamed '{old_name}' to '{new_name}'.\")\n",
        "\n",
        "# Example of a renaming rule\n",
        "def example_rename_rule(old_name):\n",
        "    # Add a \"_new\" suffix before the file extension\n",
        "    name, extension = os.path.splitext(old_name)\n",
        "    new_name = name + \"_new\" + extension\n",
        "    return new_name\n",
        "\n",
        "# Main Program\n",
        "if __name__ == \"__main__\":\n",
        "    # Ask user for folder path\n",
        "    folder = input(\"Enter the path of the folder where the files are located: \")\n",
        "\n",
        "    # Call the rename function with the example rule\n",
        "    rename_files_in_folder(folder, example_rename_rule)\n",
        "\n"
      ]
    }
  ],
  "metadata": {
    "colab": {
      "provenance": []
    },
    "kernelspec": {
      "display_name": "Python 3",
      "name": "python3"
    },
    "language_info": {
      "name": "python",
      "version": "3.13.3"
    }
  },
  "nbformat": 4,
  "nbformat_minor": 0
}
