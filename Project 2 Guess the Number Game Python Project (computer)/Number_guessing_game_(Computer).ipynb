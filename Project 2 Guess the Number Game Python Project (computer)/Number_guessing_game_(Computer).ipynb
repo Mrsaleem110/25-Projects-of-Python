{
  "nbformat": 4,
  "nbformat_minor": 0,
  "metadata": {
    "colab": {
      "provenance": []
    },
    "kernelspec": {
      "name": "python3",
      "display_name": "Python 3"
    },
    "language_info": {
      "name": "python"
    }
  },
  "cells": [
    {
      "cell_type": "code",
      "execution_count": null,
      "metadata": {
        "colab": {
          "base_uri": "https://localhost:8080/"
        },
        "id": "gNES04fxvNMy",
        "outputId": "1f7fb365-a24f-4500-8eac-68175788a1a9"
      },
      "outputs": [
        {
          "output_type": "stream",
          "name": "stdout",
          "text": [
            "welcome to the Number guessing game.\n",
            "I am thinking of a number between 1 and 100.\n",
            "\n",
            "You have 7 guesses left.\n"
          ]
        }
      ],
      "source": [
        "import random\n",
        "def guess_the_number():\n",
        "  number = random.randint(1,100)\n",
        "  guesses_left = 7\n",
        "  print(\"welcome to the Number guessing game.\")\n",
        "  print(\"I am thinking of a number between 1 and 100.\")\n",
        "\n",
        "  while guesses_left > 0:\n",
        "    print(f\"\\nYou have {guesses_left} guesses left.\")\n",
        "    try:\n",
        "      guess = int(input(\"Take a guess: \"))\n",
        "    except ValueError:\n",
        "      print(\"Invalid input. Please enter a number.\")\n",
        "      continue\n",
        "    if guess < number:\n",
        "      print(\"Too low! Try again.\")\n",
        "    elif guess > number:\n",
        "      print(\"Too high! Try again.\")\n",
        "    else :\n",
        "      print(f\"Congratulations! You guessed the number {number} in {7-guesses_left+1} guesses.\")\n",
        "      break\n",
        "    guesses_left -= 1\n",
        "    print(f\"Sorry, you ran out of guesses. The number was {number}.\")\n",
        "guess_the_number()\n",
        "\n",
        "\n"
      ]
    }
  ]
}